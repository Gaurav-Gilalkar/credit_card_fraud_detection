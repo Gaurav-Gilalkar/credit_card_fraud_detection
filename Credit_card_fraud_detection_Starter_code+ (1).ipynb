{
 "cells": [
  {
   "cell_type": "markdown",
   "metadata": {},
   "source": [
    "## Credit Card Fraud Detection\n",
    "\n",
    "In this project you will predict fraudulent credit card transactions with the help of Machine learning models. Please import the following libraries to get started."
   ]
  },
  {
   "cell_type": "code",
   "execution_count": 2,
   "metadata": {
    "scrolled": false
   },
   "outputs": [],
   "source": [
    "import numpy as np\n",
    "import pandas as pd\n",
    "\n",
    "import matplotlib.pyplot as plt\n",
    "%matplotlib inline\n",
    "import seaborn as sns\n",
    "\n",
    "from sklearn import metrics\n",
    "from sklearn import preprocessing"
   ]
  },
  {
   "cell_type": "markdown",
   "metadata": {},
   "source": [
    "## Exploratory data analysis"
   ]
  },
  {
   "cell_type": "code",
   "execution_count": 3,
   "metadata": {},
   "outputs": [
    {
     "data": {
      "text/html": [
       "<div>\n",
       "<style scoped>\n",
       "    .dataframe tbody tr th:only-of-type {\n",
       "        vertical-align: middle;\n",
       "    }\n",
       "\n",
       "    .dataframe tbody tr th {\n",
       "        vertical-align: top;\n",
       "    }\n",
       "\n",
       "    .dataframe thead th {\n",
       "        text-align: right;\n",
       "    }\n",
       "</style>\n",
       "<table border=\"1\" class=\"dataframe\">\n",
       "  <thead>\n",
       "    <tr style=\"text-align: right;\">\n",
       "      <th></th>\n",
       "      <th>Time</th>\n",
       "      <th>V1</th>\n",
       "      <th>V2</th>\n",
       "      <th>V3</th>\n",
       "      <th>V4</th>\n",
       "      <th>V5</th>\n",
       "      <th>V6</th>\n",
       "      <th>V7</th>\n",
       "      <th>V8</th>\n",
       "      <th>V9</th>\n",
       "      <th>...</th>\n",
       "      <th>V21</th>\n",
       "      <th>V22</th>\n",
       "      <th>V23</th>\n",
       "      <th>V24</th>\n",
       "      <th>V25</th>\n",
       "      <th>V26</th>\n",
       "      <th>V27</th>\n",
       "      <th>V28</th>\n",
       "      <th>Amount</th>\n",
       "      <th>Class</th>\n",
       "    </tr>\n",
       "  </thead>\n",
       "  <tbody>\n",
       "    <tr>\n",
       "      <th>0</th>\n",
       "      <td>0.0</td>\n",
       "      <td>-1.359807</td>\n",
       "      <td>-0.072781</td>\n",
       "      <td>2.536347</td>\n",
       "      <td>1.378155</td>\n",
       "      <td>-0.338321</td>\n",
       "      <td>0.462388</td>\n",
       "      <td>0.239599</td>\n",
       "      <td>0.098698</td>\n",
       "      <td>0.363787</td>\n",
       "      <td>...</td>\n",
       "      <td>-0.018307</td>\n",
       "      <td>0.277838</td>\n",
       "      <td>-0.110474</td>\n",
       "      <td>0.066928</td>\n",
       "      <td>0.128539</td>\n",
       "      <td>-0.189115</td>\n",
       "      <td>0.133558</td>\n",
       "      <td>-0.021053</td>\n",
       "      <td>149.62</td>\n",
       "      <td>0</td>\n",
       "    </tr>\n",
       "    <tr>\n",
       "      <th>1</th>\n",
       "      <td>0.0</td>\n",
       "      <td>1.191857</td>\n",
       "      <td>0.266151</td>\n",
       "      <td>0.166480</td>\n",
       "      <td>0.448154</td>\n",
       "      <td>0.060018</td>\n",
       "      <td>-0.082361</td>\n",
       "      <td>-0.078803</td>\n",
       "      <td>0.085102</td>\n",
       "      <td>-0.255425</td>\n",
       "      <td>...</td>\n",
       "      <td>-0.225775</td>\n",
       "      <td>-0.638672</td>\n",
       "      <td>0.101288</td>\n",
       "      <td>-0.339846</td>\n",
       "      <td>0.167170</td>\n",
       "      <td>0.125895</td>\n",
       "      <td>-0.008983</td>\n",
       "      <td>0.014724</td>\n",
       "      <td>2.69</td>\n",
       "      <td>0</td>\n",
       "    </tr>\n",
       "    <tr>\n",
       "      <th>2</th>\n",
       "      <td>1.0</td>\n",
       "      <td>-1.358354</td>\n",
       "      <td>-1.340163</td>\n",
       "      <td>1.773209</td>\n",
       "      <td>0.379780</td>\n",
       "      <td>-0.503198</td>\n",
       "      <td>1.800499</td>\n",
       "      <td>0.791461</td>\n",
       "      <td>0.247676</td>\n",
       "      <td>-1.514654</td>\n",
       "      <td>...</td>\n",
       "      <td>0.247998</td>\n",
       "      <td>0.771679</td>\n",
       "      <td>0.909412</td>\n",
       "      <td>-0.689281</td>\n",
       "      <td>-0.327642</td>\n",
       "      <td>-0.139097</td>\n",
       "      <td>-0.055353</td>\n",
       "      <td>-0.059752</td>\n",
       "      <td>378.66</td>\n",
       "      <td>0</td>\n",
       "    </tr>\n",
       "    <tr>\n",
       "      <th>3</th>\n",
       "      <td>1.0</td>\n",
       "      <td>-0.966272</td>\n",
       "      <td>-0.185226</td>\n",
       "      <td>1.792993</td>\n",
       "      <td>-0.863291</td>\n",
       "      <td>-0.010309</td>\n",
       "      <td>1.247203</td>\n",
       "      <td>0.237609</td>\n",
       "      <td>0.377436</td>\n",
       "      <td>-1.387024</td>\n",
       "      <td>...</td>\n",
       "      <td>-0.108300</td>\n",
       "      <td>0.005274</td>\n",
       "      <td>-0.190321</td>\n",
       "      <td>-1.175575</td>\n",
       "      <td>0.647376</td>\n",
       "      <td>-0.221929</td>\n",
       "      <td>0.062723</td>\n",
       "      <td>0.061458</td>\n",
       "      <td>123.50</td>\n",
       "      <td>0</td>\n",
       "    </tr>\n",
       "    <tr>\n",
       "      <th>4</th>\n",
       "      <td>2.0</td>\n",
       "      <td>-1.158233</td>\n",
       "      <td>0.877737</td>\n",
       "      <td>1.548718</td>\n",
       "      <td>0.403034</td>\n",
       "      <td>-0.407193</td>\n",
       "      <td>0.095921</td>\n",
       "      <td>0.592941</td>\n",
       "      <td>-0.270533</td>\n",
       "      <td>0.817739</td>\n",
       "      <td>...</td>\n",
       "      <td>-0.009431</td>\n",
       "      <td>0.798278</td>\n",
       "      <td>-0.137458</td>\n",
       "      <td>0.141267</td>\n",
       "      <td>-0.206010</td>\n",
       "      <td>0.502292</td>\n",
       "      <td>0.219422</td>\n",
       "      <td>0.215153</td>\n",
       "      <td>69.99</td>\n",
       "      <td>0</td>\n",
       "    </tr>\n",
       "  </tbody>\n",
       "</table>\n",
       "<p>5 rows × 31 columns</p>\n",
       "</div>"
      ],
      "text/plain": [
       "   Time        V1        V2        V3        V4        V5        V6        V7  \\\n",
       "0   0.0 -1.359807 -0.072781  2.536347  1.378155 -0.338321  0.462388  0.239599   \n",
       "1   0.0  1.191857  0.266151  0.166480  0.448154  0.060018 -0.082361 -0.078803   \n",
       "2   1.0 -1.358354 -1.340163  1.773209  0.379780 -0.503198  1.800499  0.791461   \n",
       "3   1.0 -0.966272 -0.185226  1.792993 -0.863291 -0.010309  1.247203  0.237609   \n",
       "4   2.0 -1.158233  0.877737  1.548718  0.403034 -0.407193  0.095921  0.592941   \n",
       "\n",
       "         V8        V9  ...       V21       V22       V23       V24       V25  \\\n",
       "0  0.098698  0.363787  ... -0.018307  0.277838 -0.110474  0.066928  0.128539   \n",
       "1  0.085102 -0.255425  ... -0.225775 -0.638672  0.101288 -0.339846  0.167170   \n",
       "2  0.247676 -1.514654  ...  0.247998  0.771679  0.909412 -0.689281 -0.327642   \n",
       "3  0.377436 -1.387024  ... -0.108300  0.005274 -0.190321 -1.175575  0.647376   \n",
       "4 -0.270533  0.817739  ... -0.009431  0.798278 -0.137458  0.141267 -0.206010   \n",
       "\n",
       "        V26       V27       V28  Amount  Class  \n",
       "0 -0.189115  0.133558 -0.021053  149.62      0  \n",
       "1  0.125895 -0.008983  0.014724    2.69      0  \n",
       "2 -0.139097 -0.055353 -0.059752  378.66      0  \n",
       "3 -0.221929  0.062723  0.061458  123.50      0  \n",
       "4  0.502292  0.219422  0.215153   69.99      0  \n",
       "\n",
       "[5 rows x 31 columns]"
      ]
     },
     "execution_count": 3,
     "metadata": {},
     "output_type": "execute_result"
    }
   ],
   "source": [
    "df = pd.read_csv('creditcard.csv')\n",
    "df.head()"
   ]
  },
  {
   "cell_type": "code",
   "execution_count": 4,
   "metadata": {},
   "outputs": [
    {
     "name": "stdout",
     "output_type": "stream",
     "text": [
      "<class 'pandas.core.frame.DataFrame'>\n",
      "RangeIndex: 284807 entries, 0 to 284806\n",
      "Data columns (total 31 columns):\n",
      " #   Column  Non-Null Count   Dtype  \n",
      "---  ------  --------------   -----  \n",
      " 0   Time    284807 non-null  float64\n",
      " 1   V1      284807 non-null  float64\n",
      " 2   V2      284807 non-null  float64\n",
      " 3   V3      284807 non-null  float64\n",
      " 4   V4      284807 non-null  float64\n",
      " 5   V5      284807 non-null  float64\n",
      " 6   V6      284807 non-null  float64\n",
      " 7   V7      284807 non-null  float64\n",
      " 8   V8      284807 non-null  float64\n",
      " 9   V9      284807 non-null  float64\n",
      " 10  V10     284807 non-null  float64\n",
      " 11  V11     284807 non-null  float64\n",
      " 12  V12     284807 non-null  float64\n",
      " 13  V13     284807 non-null  float64\n",
      " 14  V14     284807 non-null  float64\n",
      " 15  V15     284807 non-null  float64\n",
      " 16  V16     284807 non-null  float64\n",
      " 17  V17     284807 non-null  float64\n",
      " 18  V18     284807 non-null  float64\n",
      " 19  V19     284807 non-null  float64\n",
      " 20  V20     284807 non-null  float64\n",
      " 21  V21     284807 non-null  float64\n",
      " 22  V22     284807 non-null  float64\n",
      " 23  V23     284807 non-null  float64\n",
      " 24  V24     284807 non-null  float64\n",
      " 25  V25     284807 non-null  float64\n",
      " 26  V26     284807 non-null  float64\n",
      " 27  V27     284807 non-null  float64\n",
      " 28  V28     284807 non-null  float64\n",
      " 29  Amount  284807 non-null  float64\n",
      " 30  Class   284807 non-null  int64  \n",
      "dtypes: float64(30), int64(1)\n",
      "memory usage: 67.4 MB\n"
     ]
    }
   ],
   "source": [
    "#observe the different feature type present in the data\n",
    "\n",
    "df.info()"
   ]
  },
  {
   "cell_type": "markdown",
   "metadata": {},
   "source": [
    "Here we will observe the distribution of our classes"
   ]
  },
  {
   "cell_type": "code",
   "execution_count": 5,
   "metadata": {},
   "outputs": [],
   "source": [
    "classes=df['Class'].value_counts()\n",
    "normal_share=classes[0]/df['Class'].count()*100\n",
    "fraud_share=classes[1]/df['Class'].count()*100"
   ]
  },
  {
   "cell_type": "code",
   "execution_count": 6,
   "metadata": {},
   "outputs": [
    {
     "data": {
      "text/plain": [
       "array([[<AxesSubplot:title={'center':'Time'}>,\n",
       "        <AxesSubplot:title={'center':'V1'}>,\n",
       "        <AxesSubplot:title={'center':'V2'}>,\n",
       "        <AxesSubplot:title={'center':'V3'}>,\n",
       "        <AxesSubplot:title={'center':'V4'}>,\n",
       "        <AxesSubplot:title={'center':'V5'}>],\n",
       "       [<AxesSubplot:title={'center':'V6'}>,\n",
       "        <AxesSubplot:title={'center':'V7'}>,\n",
       "        <AxesSubplot:title={'center':'V8'}>,\n",
       "        <AxesSubplot:title={'center':'V9'}>,\n",
       "        <AxesSubplot:title={'center':'V10'}>,\n",
       "        <AxesSubplot:title={'center':'V11'}>],\n",
       "       [<AxesSubplot:title={'center':'V12'}>,\n",
       "        <AxesSubplot:title={'center':'V13'}>,\n",
       "        <AxesSubplot:title={'center':'V14'}>,\n",
       "        <AxesSubplot:title={'center':'V15'}>,\n",
       "        <AxesSubplot:title={'center':'V16'}>,\n",
       "        <AxesSubplot:title={'center':'V17'}>],\n",
       "       [<AxesSubplot:title={'center':'V18'}>,\n",
       "        <AxesSubplot:title={'center':'V19'}>,\n",
       "        <AxesSubplot:title={'center':'V20'}>,\n",
       "        <AxesSubplot:title={'center':'V21'}>,\n",
       "        <AxesSubplot:title={'center':'V22'}>,\n",
       "        <AxesSubplot:title={'center':'V23'}>],\n",
       "       [<AxesSubplot:title={'center':'V24'}>,\n",
       "        <AxesSubplot:title={'center':'V25'}>,\n",
       "        <AxesSubplot:title={'center':'V26'}>,\n",
       "        <AxesSubplot:title={'center':'V27'}>,\n",
       "        <AxesSubplot:title={'center':'V28'}>,\n",
       "        <AxesSubplot:title={'center':'Amount'}>],\n",
       "       [<AxesSubplot:title={'center':'Class'}>, <AxesSubplot:>,\n",
       "        <AxesSubplot:>, <AxesSubplot:>, <AxesSubplot:>, <AxesSubplot:>]],\n",
       "      dtype=object)"
      ]
     },
     "execution_count": 6,
     "metadata": {},
     "output_type": "execute_result"
    },
    {
     "data": {
      "image/png": "[encoded data removed]",
      "text/plain": [
       "<Figure size 1440x1080 with 36 Axes>"
      ]
     },
     "metadata": {
      "needs_background": "light"
     },
     "output_type": "display_data"
    }
   ],
   "source": [
    "# Create a bar plot for the number and percentage of fraudulent vs non-fraudulent transcations\n",
    "df.hist(figsize=(20,15),bins=30)\n"
   ]
  },
  {
   "cell_type": "code",
   "execution_count": 7,
   "metadata": {},
   "outputs": [
    {
     "data": {
      "text/plain": [
       "<matplotlib.collections.PathCollection at 0x1d9e4d61070>"
      ]
     },
     "execution_count": 7,
     "metadata": {},
     "output_type": "execute_result"
    },
    {
     "data": {
      "image/png": "[encoded data removed]",
      "text/plain": [
       "<Figure size 432x288 with 1 Axes>"
      ]
     },
     "metadata": {
      "needs_background": "light"
     },
     "output_type": "display_data"
    }
   ],
   "source": [
    "# Create a scatter plot to observe the distribution of classes with time\n",
    "plt.scatter(x = df.Class, y = df.Time)"
   ]
  },
  {
   "cell_type": "code",
   "execution_count": 8,
   "metadata": {},
   "outputs": [
    {
     "data": {
      "text/plain": [
       "<matplotlib.collections.PathCollection at 0x1d9e4e4bc10>"
      ]
     },
     "execution_count": 8,
     "metadata": {},
     "output_type": "execute_result"
    },
    {
     "data": {
      "image/png": "[encoded data removed]",
      "text/plain": [
       "<Figure size 432x288 with 1 Axes>"
      ]
     },
     "metadata": {
      "needs_background": "light"
     },
     "output_type": "display_data"
    }
   ],
   "source": [
    "# Create a scatter plot to observe the distribution of classes with Amount\n",
    "plt.scatter(x = df.Class, y = df.Amount)"
   ]
  },
  {
   "cell_type": "code",
   "execution_count": 9,
   "metadata": {},
   "outputs": [],
   "source": [
    "# Drop unnecessary columns. In this case we drop time column as it is simply behaves like a counter which will not be helpful to us\n",
    "df = df.drop(\"Time\", axis = 1)\n"
   ]
  },
  {
   "cell_type": "markdown",
   "metadata": {},
   "source": [
    "### Splitting the data into train & test data"
   ]
  },
  {
   "cell_type": "code",
   "execution_count": 10,
   "metadata": {},
   "outputs": [],
   "source": [
    "x = df.drop(\"Class\", axis = 1)\n",
    "y = df.Class"
   ]
  },
  {
   "cell_type": "code",
   "execution_count": 11,
   "metadata": {},
   "outputs": [],
   "source": [
    "from sklearn.model_selection import train_test_split\n",
    "\n",
    "\n",
    "X_train, X_test, y_train, y_test = train_test_split(x, y, train_size = 0.7, test_size = 0.3, random_state = 123)"
   ]
  },
  {
   "cell_type": "markdown",
   "metadata": {},
   "source": [
    "##### Preserve X_test & y_test to evaluate on the test data once you build the model"
   ]
  },
  {
   "cell_type": "code",
   "execution_count": 12,
   "metadata": {},
   "outputs": [
    {
     "name": "stdout",
     "output_type": "stream",
     "text": [
      "492\n",
      "332\n",
      "160\n"
     ]
    }
   ],
   "source": [
    "print(np.sum(y))\n",
    "print(np.sum(y_train))\n",
    "print(np.sum(y_test))"
   ]
  },
  {
   "cell_type": "markdown",
   "metadata": {},
   "source": [
    "### Plotting the distribution of a variable"
   ]
  },
  {
   "cell_type": "code",
   "execution_count": 13,
   "metadata": {},
   "outputs": [
    {
     "data": {
      "text/plain": [
       "(array([1.00000e+00, 1.00000e+00, 3.00000e+00, 1.80000e+01, 3.00000e+01,\n",
       "        8.10000e+01, 1.84000e+02, 8.89000e+02, 9.46200e+03, 2.74138e+05]),\n",
       " array([-56.40750963, -50.52126567, -44.63502171, -38.74877774,\n",
       "        -32.86253378, -26.97628982, -21.09004586, -15.2038019 ,\n",
       "         -9.31755793,  -3.43131397,   2.45492999]),\n",
       " <BarContainer object of 10 artists>)"
      ]
     },
     "execution_count": 13,
     "metadata": {},
     "output_type": "execute_result"
    },
    {
     "data": {
      "image/png": "[encoded data removed]",
      "text/plain": [
       "<Figure size 432x288 with 1 Axes>"
      ]
     },
     "metadata": {
      "needs_background": "light"
     },
     "output_type": "display_data"
    }
   ],
   "source": [
    "# plot the histogram of a variable from the dataset to see the skewness\n",
    "plt.hist(df.V1)"
   ]
  },
  {
   "cell_type": "markdown",
   "metadata": {},
   "source": [
    "### If there is skewness present in the distribution use:\n",
    "- <b>Power Transformer</b> package present in the <b>preprocessing library provided by sklearn</b> to make distribution more gaussian"
   ]
  },
  {
   "cell_type": "code",
   "execution_count": 14,
   "metadata": {},
   "outputs": [],
   "source": [
    "# - Apply : preprocessing.PowerTransformer(copy=False) to fit & transform the train & test data\n",
    "from sklearn.preprocessing import PowerTransformer\n",
    "power = PowerTransformer(method = 'yeo-johnson', standardize = True, copy = False)\n",
    "df_trans = power.fit_transform(df)"
   ]
  },
  {
   "cell_type": "code",
   "execution_count": 15,
   "metadata": {},
   "outputs": [
    {
     "data": {
      "text/plain": [
       "array([[-0.9048152 , -0.13150276,  2.17607386, ..., -0.05333224,\n",
       "         1.11901341, -0.04159898],\n",
       "       [ 0.62638966,  0.09306734, -0.03506242, ...,  0.05749143,\n",
       "        -1.12846424, -0.04159898],\n",
       "       [-0.90424231, -0.87185802,  1.38129728, ..., -0.17375212,\n",
       "         1.62328624, -0.04159898],\n",
       "       ...,\n",
       "       [ 1.30917055, -0.27480125, -1.85834088, ..., -0.07043663,\n",
       "         0.67558998, -0.04159898],\n",
       "       [-0.39584388,  0.27752167,  0.39117209, ...,  0.33358146,\n",
       "        -0.42729814, -0.04159898],\n",
       "       [-0.54534012, -0.20558579,  0.39187039, ...,  0.05416788,\n",
       "         1.32320001, -0.04159898]])"
      ]
     },
     "execution_count": 15,
     "metadata": {},
     "output_type": "execute_result"
    }
   ],
   "source": [
    "df_trans"
   ]
  },
  {
   "cell_type": "code",
   "execution_count": 16,
   "metadata": {},
   "outputs": [
    {
     "data": {
      "text/plain": [
       "(array([[0.00000e+00, 0.00000e+00, 0.00000e+00, 2.70100e+03, 2.82106e+05,\n",
       "         0.00000e+00, 0.00000e+00, 0.00000e+00, 0.00000e+00, 0.00000e+00],\n",
       "        [0.00000e+00, 0.00000e+00, 3.00000e+00, 3.42800e+03, 2.81358e+05,\n",
       "         1.80000e+01, 0.00000e+00, 0.00000e+00, 0.00000e+00, 0.00000e+00],\n",
       "        [0.00000e+00, 0.00000e+00, 0.00000e+00, 1.89500e+03, 2.82912e+05,\n",
       "         0.00000e+00, 0.00000e+00, 0.00000e+00, 0.00000e+00, 0.00000e+00],\n",
       "        [0.00000e+00, 0.00000e+00, 0.00000e+00, 3.63800e+03, 2.81169e+05,\n",
       "         0.00000e+00, 0.00000e+00, 0.00000e+00, 0.00000e+00, 0.00000e+00],\n",
       "        [1.00000e+00, 0.00000e+00, 5.00000e+00, 2.26400e+03, 2.82516e+05,\n",
       "         2.10000e+01, 0.00000e+00, 0.00000e+00, 0.00000e+00, 0.00000e+00],\n",
       "        [0.00000e+00, 1.00000e+00, 1.60000e+01, 1.68600e+03, 2.83103e+05,\n",
       "         1.00000e+00, 0.00000e+00, 0.00000e+00, 0.00000e+00, 0.00000e+00],\n",
       "        [0.00000e+00, 0.00000e+00, 1.20000e+01, 2.84900e+03, 2.81907e+05,\n",
       "         3.70000e+01, 1.00000e+00, 0.00000e+00, 0.00000e+00, 1.00000e+00],\n",
       "        [0.00000e+00, 0.00000e+00, 4.00000e+00, 3.82800e+03, 2.80928e+05,\n",
       "         4.00000e+01, 7.00000e+00, 0.00000e+00, 0.00000e+00, 0.00000e+00],\n",
       "        [0.00000e+00, 0.00000e+00, 0.00000e+00, 3.20500e+03, 2.81602e+05,\n",
       "         0.00000e+00, 0.00000e+00, 0.00000e+00, 0.00000e+00, 0.00000e+00],\n",
       "        [0.00000e+00, 0.00000e+00, 1.50000e+01, 1.70300e+03, 2.83088e+05,\n",
       "         1.00000e+00, 0.00000e+00, 0.00000e+00, 0.00000e+00, 0.00000e+00],\n",
       "        [0.00000e+00, 0.00000e+00, 0.00000e+00, 1.46800e+03, 2.83339e+05,\n",
       "         0.00000e+00, 0.00000e+00, 0.00000e+00, 0.00000e+00, 0.00000e+00],\n",
       "        [0.00000e+00, 0.00000e+00, 0.00000e+00, 2.10600e+03, 2.82700e+05,\n",
       "         1.00000e+00, 0.00000e+00, 0.00000e+00, 0.00000e+00, 0.00000e+00],\n",
       "        [0.00000e+00, 0.00000e+00, 0.00000e+00, 2.23100e+03, 2.82576e+05,\n",
       "         0.00000e+00, 0.00000e+00, 0.00000e+00, 0.00000e+00, 0.00000e+00],\n",
       "        [0.00000e+00, 0.00000e+00, 0.00000e+00, 3.35700e+03, 2.81449e+05,\n",
       "         1.00000e+00, 0.00000e+00, 0.00000e+00, 0.00000e+00, 0.00000e+00],\n",
       "        [0.00000e+00, 0.00000e+00, 0.00000e+00, 2.34300e+03, 2.82464e+05,\n",
       "         0.00000e+00, 0.00000e+00, 0.00000e+00, 0.00000e+00, 0.00000e+00],\n",
       "        [0.00000e+00, 0.00000e+00, 0.00000e+00, 2.59400e+03, 2.82212e+05,\n",
       "         0.00000e+00, 1.00000e+00, 0.00000e+00, 0.00000e+00, 0.00000e+00],\n",
       "        [0.00000e+00, 0.00000e+00, 3.00000e+00, 5.55000e+02, 2.84249e+05,\n",
       "         0.00000e+00, 0.00000e+00, 0.00000e+00, 0.00000e+00, 0.00000e+00],\n",
       "        [0.00000e+00, 0.00000e+00, 0.00000e+00, 3.13400e+03, 2.81673e+05,\n",
       "         0.00000e+00, 0.00000e+00, 0.00000e+00, 0.00000e+00, 0.00000e+00],\n",
       "        [0.00000e+00, 0.00000e+00, 0.00000e+00, 3.85900e+03, 2.80948e+05,\n",
       "         0.00000e+00, 0.00000e+00, 0.00000e+00, 0.00000e+00, 0.00000e+00],\n",
       "        [1.00000e+00, 0.00000e+00, 3.50000e+01, 2.09900e+03, 2.82632e+05,\n",
       "         3.70000e+01, 1.00000e+00, 2.00000e+00, 0.00000e+00, 0.00000e+00],\n",
       "        [1.00000e+00, 4.00000e+00, 3.20000e+01, 2.12000e+03, 2.82586e+05,\n",
       "         6.40000e+01, 0.00000e+00, 0.00000e+00, 0.00000e+00, 0.00000e+00],\n",
       "        [0.00000e+00, 0.00000e+00, 0.00000e+00, 1.98700e+03, 2.82819e+05,\n",
       "         1.00000e+00, 0.00000e+00, 0.00000e+00, 0.00000e+00, 0.00000e+00],\n",
       "        [1.00000e+00, 3.00000e+00, 3.40000e+01, 1.87800e+03, 2.82808e+05,\n",
       "         7.30000e+01, 1.00000e+01, 0.00000e+00, 0.00000e+00, 0.00000e+00],\n",
       "        [0.00000e+00, 0.00000e+00, 0.00000e+00, 9.61000e+02, 2.83846e+05,\n",
       "         0.00000e+00, 0.00000e+00, 0.00000e+00, 0.00000e+00, 0.00000e+00],\n",
       "        [0.00000e+00, 0.00000e+00, 0.00000e+00, 3.32000e+03, 2.81486e+05,\n",
       "         1.00000e+00, 0.00000e+00, 0.00000e+00, 0.00000e+00, 0.00000e+00],\n",
       "        [0.00000e+00, 0.00000e+00, 0.00000e+00, 3.26100e+03, 2.81546e+05,\n",
       "         0.00000e+00, 0.00000e+00, 0.00000e+00, 0.00000e+00, 0.00000e+00],\n",
       "        [0.00000e+00, 1.00000e+00, 5.00000e+00, 4.11600e+03, 2.80649e+05,\n",
       "         3.30000e+01, 2.00000e+00, 0.00000e+00, 0.00000e+00, 1.00000e+00],\n",
       "        [1.00000e+00, 1.00000e+00, 3.70000e+01, 3.70200e+03, 2.81009e+05,\n",
       "         3.50000e+01, 2.00000e+01, 1.00000e+00, 1.00000e+00, 0.00000e+00],\n",
       "        [0.00000e+00, 0.00000e+00, 0.00000e+00, 0.00000e+00, 2.84807e+05,\n",
       "         0.00000e+00, 0.00000e+00, 0.00000e+00, 0.00000e+00, 0.00000e+00],\n",
       "        [0.00000e+00, 0.00000e+00, 0.00000e+00, 0.00000e+00, 2.84315e+05,\n",
       "         4.92000e+02, 0.00000e+00, 0.00000e+00, 0.00000e+00, 0.00000e+00]]),\n",
       " array([-73.2938585 , -55.57705776, -37.86025702, -20.14345629,\n",
       "         -2.42665555,  15.29014519,  33.00694593,  50.72374667,\n",
       "         68.44054741,  86.15734815, 103.87414889]),\n",
       " <a list of 30 BarContainer objects>)"
      ]
     },
     "execution_count": 16,
     "metadata": {},
     "output_type": "execute_result"
    },
    {
     "data": {
      "image/png": "[encoded data removed]",
      "text/plain": [
       "<Figure size 432x288 with 1 Axes>"
      ]
     },
     "metadata": {
      "needs_background": "light"
     },
     "output_type": "display_data"
    }
   ],
   "source": [
    "# plot the histogram of a variable from the dataset again to see the result \n",
    "plt.hist(df_trans)"
   ]
  },
  {
   "cell_type": "markdown",
   "metadata": {},
   "source": [
    "## Model Building\n",
    "- Build different models on the imbalanced dataset and see the result"
   ]
  },
  {
   "cell_type": "code",
   "execution_count": 17,
   "metadata": {
    "scrolled": false
   },
   "outputs": [],
   "source": [
    "# Logistic Regression\n",
    "from sklearn.linear_model import LogisticRegression #import the package\n",
    "from sklearn.model_selection import StratifiedKFold\n",
    "from sklearn.model_selection import GridSearchCV\n",
    "\n",
    "# num_C = ______  #--> list of values\n",
    "# cv_num =   #--> list of values"
   ]
  },
  {
   "cell_type": "markdown",
   "metadata": {},
   "source": [
    "#### perfom cross validation on the X_train & y_train to create:\n",
    "- X_train_cv\n",
    "- X_test_cv \n",
    "- y_train_cv\n",
    "- y_test_cv "
   ]
  },
  {
   "cell_type": "code",
   "execution_count": 18,
   "metadata": {},
   "outputs": [
    {
     "data": {
      "text/plain": [
       "dict_keys(['C', 'class_weight', 'dual', 'fit_intercept', 'intercept_scaling', 'l1_ratio', 'max_iter', 'multi_class', 'n_jobs', 'penalty', 'random_state', 'solver', 'tol', 'verbose', 'warm_start'])"
      ]
     },
     "execution_count": 18,
     "metadata": {},
     "output_type": "execute_result"
    }
   ],
   "source": [
    "LogisticRegression().get_params().keys()"
   ]
  },
  {
   "cell_type": "code",
   "execution_count": 19,
   "metadata": {},
   "outputs": [
    {
     "name": "stdout",
     "output_type": "stream",
     "text": [
      "Best score 0.726905369844956\n",
      "Best parameters {'C': 100, 'penalty': 'l2', 'solver': 'lbfgs'}\n"
     ]
    },
    {
     "name": "stderr",
     "output_type": "stream",
     "text": [
      "C:\\Python383\\lib\\site-packages\\sklearn\\linear_model\\_logistic.py:814: ConvergenceWarning: lbfgs failed to converge (status=1):\n",
      "STOP: TOTAL NO. of ITERATIONS REACHED LIMIT.\n",
      "\n",
      "Increase the number of iterations (max_iter) or scale the data as shown in:\n",
      "    https://scikit-learn.org/stable/modules/preprocessing.html\n",
      "Please also refer to the documentation for alternative solver options:\n",
      "    https://scikit-learn.org/stable/modules/linear_model.html#logistic-regression\n",
      "  n_iter_i = _check_optimize_result(\n"
     ]
    }
   ],
   "source": [
    "#perform cross validation\n",
    "LR = LogisticRegression()\n",
    "\n",
    "k_fold = StratifiedKFold(n_splits = 5,shuffle = True, random_state = 123)\n",
    "# for train_index, test_index in k_fold.split(x,y):\n",
    "#     X_train_cv, X_test_cv = x[train_index], x[test_index]\n",
    "#     y_train_cv, y_test_cv = y[train_index], y[test_index]\n",
    "\n",
    "#perform hyperparameter tuning\n",
    "lr_params = {\n",
    "    'solver':['newton-cg', 'lbfgs', 'liblinear'],\n",
    "    'penalty':['l2'],\n",
    "    'C':[100, 10, 1.0, 0.1, 0.01]\n",
    "    }\n",
    "grid_search = GridSearchCV(estimator = LR, param_grid = lr_params, n_jobs = -1, cv = k_fold, scoring = 'f1')\n",
    "grid_result = grid_search.fit(x, y)\n",
    "\n",
    "#print the evaluation result by choosing a evaluation metric\n",
    "print(\"Best score {}\".format(grid_result.best_score_))\n",
    "\n",
    "#print the optimum value of hyperparameters\n",
    "print(\"Best parameters {}\".format(grid_result.best_params_))"
   ]
  },
  {
   "cell_type": "markdown",
   "metadata": {},
   "source": [
    "**Best LR params**\n",
    "\n",
    "Best score 0.7299752979486616\n",
    "Best parameters {'C': 1.0, 'penalty': 'l2', 'solver': 'lbfgs'}\n",
    "\n"
   ]
  },
  {
   "cell_type": "code",
   "execution_count": 20,
   "metadata": {},
   "outputs": [],
   "source": [
    "def fit_a_model(model_type, n_splits, shuffle, random_state, model_params, scoring, x, y):\n",
    "    model = model_type\n",
    "    k_fold = StratifiedKFold(n_splits = n_splits, shuffle = shuffle, random_state = random_state)\n",
    "    grid_search = GridSearchCV(estimator = model, param_grid = model_params, n_jobs = -1, cv = k_fold, scoring = scoring, verbose = 3)\n",
    "    grid_result = grid_search.fit(x, y)\n",
    "    best_score_and_params_dict = dict(best_score = grid_result.best_score_, best_params = grid_result.best_params_)\n",
    "    return best_score_and_params_dict"
   ]
  },
  {
   "cell_type": "markdown",
   "metadata": {},
   "source": [
    "### Similarly explore other algorithms by building models like:\n",
    "- KNN\n",
    "- SVM\n",
    "- Decision Tree\n",
    "- Random Forest\n",
    "- XGBoost"
   ]
  },
  {
   "cell_type": "code",
   "execution_count": 21,
   "metadata": {},
   "outputs": [],
   "source": [
    "#KNN\n",
    "# from sklearn.neighbors import KNeighborsClassifier\n",
    "\n",
    "# n_neighbors = list(range(1,11))\n",
    "\n",
    "# knn_params = dict(n_neighbors = n_neighbors)\n",
    "\n",
    "# best_knn_model_details = fit_a_model(KNeighborsClassifier(), n_splits = 5, shuffle = True, random_state = 123, model_params = knn_params, scoring = 'f1', x = x, y = y)\n",
    "\n",
    "# best_knn_model_details"
   ]
  },
  {
   "cell_type": "markdown",
   "metadata": {},
   "source": [
    "**Best KNN model details**\n",
    "\n",
    "best_knn_model_details\n",
    "{'best_score': 0.7875857545562892, 'best_params': {'n_neighbors': 3}}"
   ]
  },
  {
   "cell_type": "code",
   "execution_count": 22,
   "metadata": {},
   "outputs": [],
   "source": [
    "# #Decision Tree\n",
    "# from sklearn.tree import DecisionTreeClassifier\n",
    "\n",
    "# dt_params = {\n",
    "#     'max_depth':[5,10],\n",
    "#     'min_samples_leaf':[500,1000,1500],\n",
    "#     'criterion':['gini','entropy'],\n",
    "#     'min_samples_split':[500,100,1500]}\n",
    "# best_dt_model_details = fit_a_model(DecisionTreeClassifier(), 5, True, 123, dt_params, 'f1', x, y)\n",
    "# best_dt_model_details"
   ]
  },
  {
   "cell_type": "markdown",
   "metadata": {},
   "source": [
    "**Best DT model details**\n",
    "\n",
    "{'best_params': {'criterion': 'gini',\n",
    "  'max_depth': 5,\n",
    "  'min_samples_leaf': 500,\n",
    "  'min_samples_split': 500},\n",
    " 'best_score': 0.6180406887019869}"
   ]
  },
  {
   "cell_type": "code",
   "execution_count": 23,
   "metadata": {},
   "outputs": [],
   "source": [
    "# #Random Forests\n",
    "# from sklearn.ensemble import RandomForestClassifier\n",
    "\n",
    "# rf_params = {\n",
    "#     'max_depth': [10,12],\n",
    "#     'min_samples_leaf': [50,60],\n",
    "#     'n_estimators': [60,70],\n",
    "#     'min_samples_split': [500,1000]\n",
    "# }\n",
    "# best_rf_model_details = fit_a_model(RandomForestClassifier(), 5, True, 123, rf_params, 'f1', x, y)\n",
    "# best_rf_model_details"
   ]
  },
  {
   "cell_type": "markdown",
   "metadata": {},
   "source": [
    "**Best RF model details**\n",
    "{'best_score': 0.7108715634113665,\n",
    " 'best_params': {'max_depth': 10,\n",
    "  'min_samples_leaf': 50,\n",
    "  'min_samples_split': 500,\n",
    "  'n_estimators': 70}}"
   ]
  },
  {
   "cell_type": "code",
   "execution_count": 24,
   "metadata": {},
   "outputs": [],
   "source": [
    "# #SVM\n",
    "# from sklearn.svm import LinearSVC, SVC\n",
    "# svm_params = {'C':[0.001,1],\n",
    "#              'gamma':[1,0.1,0.01],\n",
    "#              'degree':[2,3],\n",
    "#              'coef0':[0,4]}\n",
    "# best_svm_model_details = fit_a_model(SVC(kernel='poly'), 5, True, 123, svm_params, 'f1', x, y)\n",
    "# best_svm_model_details"
   ]
  },
  {
   "cell_type": "markdown",
   "metadata": {},
   "source": [
    "Commenting already trained models because training them again is not feasible everytime the notebook is opened fresh as it takes hours to train."
   ]
  },
  {
   "cell_type": "markdown",
   "metadata": {},
   "source": [
    "**SVM and XGBoost were taking very very long times to train** (kept training for 15 hrs and still hadnt completed training) so we are moving ahead with choosing the best among the above three models trained.\n"
   ]
  },
  {
   "cell_type": "markdown",
   "metadata": {},
   "source": [
    "#### Proceed with the model which shows the best result \n",
    "- Apply the best hyperparameter on the model\n",
    "- Predict on the test dataset"
   ]
  },
  {
   "cell_type": "code",
   "execution_count": 25,
   "metadata": {},
   "outputs": [
    {
     "data": {
      "text/plain": [
       "KNeighborsClassifier(n_neighbors=3)"
      ]
     },
     "execution_count": 25,
     "metadata": {},
     "output_type": "execute_result"
    }
   ],
   "source": [
    "from sklearn.neighbors import KNeighborsClassifier\n",
    "clf = KNeighborsClassifier(n_neighbors = 3)  #initialise the model with optimum hyperparameters\n",
    "clf.fit(X_train, y_train)\n"
   ]
  },
  {
   "cell_type": "code",
   "execution_count": 26,
   "metadata": {},
   "outputs": [
    {
     "name": "stderr",
     "output_type": "stream",
     "text": [
      "C:\\Python383\\lib\\site-packages\\sklearn\\base.py:441: UserWarning: X does not have valid feature names, but KNeighborsClassifier was fitted with feature names\n",
      "  warnings.warn(\n"
     ]
    },
    {
     "data": {
      "text/plain": [
       "array([[1., 0.],\n",
       "       [1., 0.],\n",
       "       [1., 0.],\n",
       "       ...,\n",
       "       [1., 0.],\n",
       "       [1., 0.],\n",
       "       [1., 0.]])"
      ]
     },
     "execution_count": 26,
     "metadata": {},
     "output_type": "execute_result"
    }
   ],
   "source": [
    "clf.predict_proba(X_test)"
   ]
  },
  {
   "cell_type": "code",
   "execution_count": 27,
   "metadata": {},
   "outputs": [
    {
     "data": {
      "text/plain": [
       "array(['V1', 'V2', 'V3', 'V4', 'V5', 'V6', 'V7', 'V8', 'V9', 'V10', 'V11',\n",
       "       'V12', 'V13', 'V14', 'V15', 'V16', 'V17', 'V18', 'V19', 'V20',\n",
       "       'V21', 'V22', 'V23', 'V24', 'V25', 'V26', 'V27', 'V28', 'Amount'],\n",
       "      dtype=object)"
      ]
     },
     "execution_count": 27,
     "metadata": {},
     "output_type": "execute_result"
    }
   ],
   "source": [
    "clf.feature_names_in_"
   ]
  },
  {
   "cell_type": "markdown",
   "metadata": {},
   "source": [
    "### Print the important features of the best model to understand the dataset\n",
    "- This will not give much explanation on the already transformed dataset\n",
    "- But it will help us in understanding if the dataset is not PCA transformed"
   ]
  },
  {
   "cell_type": "code",
   "execution_count": 28,
   "metadata": {},
   "outputs": [
    {
     "name": "stdout",
     "output_type": "stream",
     "text": [
      "Top var = 9\n",
      "2nd Top var = 8\n",
      "3rd Top var = 7\n"
     ]
    },
    {
     "data": {
      "text/plain": [
       "<matplotlib.legend.Legend at 0x1d9846b2a30>"
      ]
     },
     "execution_count": 28,
     "metadata": {},
     "output_type": "execute_result"
    },
    {
     "data": {
      "image/png": "[encoded data removed]",
      "text/plain": [
       "<Figure size 1440x1440 with 1 Axes>"
      ]
     },
     "metadata": {
      "needs_background": "light"
     },
     "output_type": "display_data"
    }
   ],
   "source": [
    "\n",
    "\n",
    "var_imp = []\n",
    "for i in clf.feature_names_in_:\n",
    "    var_imp.append(i)\n",
    "print('Top var =', var_imp.index(np.sort(clf.feature_names_in_)[-1])+1)\n",
    "print('2nd Top var =', var_imp.index(np.sort(clf.feature_names_in_)[-2])+1)\n",
    "print('3rd Top var =', var_imp.index(np.sort(clf.feature_names_in_)[-3])+1)\n",
    "\n",
    "# Variable on Index-16 and Index-13 seems to be the top 2 variables\n",
    "top_var_index = var_imp.index(np.sort(clf.feature_names_in_)[-1])\n",
    "second_top_var_index = var_imp.index(np.sort(clf.feature_names_in_)[-2])\n",
    "\n",
    "X_train_1 = X_train.to_numpy()[np.where(y_train==1.0)]\n",
    "X_train_0 = X_train.to_numpy()[np.where(y_train==0.0)]\n",
    "\n",
    "np.random.shuffle(X_train_0)\n",
    "\n",
    "import matplotlib.pyplot as plt\n",
    "%matplotlib inline\n",
    "plt.rcParams['figure.figsize'] = [20, 20]\n",
    "\n",
    "plt.scatter(X_train_1[:, top_var_index], X_train_1[:, second_top_var_index], label='Actual Class-1 Examples')\n",
    "plt.scatter(X_train_0[:X_train_1.shape[0], top_var_index], X_train_0[:X_train_1.shape[0], second_top_var_index],\n",
    "            label='Actual Class-0 Examples')\n",
    "plt.legend()"
   ]
  },
  {
   "cell_type": "markdown",
   "metadata": {},
   "source": [
    "## Model building with balancing Classes\n",
    "\n",
    "##### Perform class balancing with :\n",
    "- Random Oversampling\n",
    "- SMOTE\n",
    "- ADASYN"
   ]
  },
  {
   "cell_type": "markdown",
   "metadata": {},
   "source": [
    "## Model Building\n",
    "- Build different models on the balanced dataset and see the result"
   ]
  },
  {
   "cell_type": "code",
   "execution_count": 29,
   "metadata": {},
   "outputs": [],
   "source": [
    "# # Logistic Regression\n",
    "# from sklearn import linear_model #import the package\n",
    "\n",
    "# num_C = ______  #--> list of values\n",
    "# cv_num =   #--> list of values"
   ]
  },
  {
   "cell_type": "markdown",
   "metadata": {},
   "source": [
    "#### perfom cross validation on the X_train & y_train to create:\n",
    "- X_train_cv\n",
    "- X_test_cv \n",
    "- y_train_cv\n",
    "- y_test_cv "
   ]
  },
  {
   "cell_type": "markdown",
   "metadata": {},
   "source": [
    "### Random Oversampling"
   ]
  },
  {
   "cell_type": "code",
   "execution_count": 31,
   "metadata": {
    "scrolled": true
   },
   "outputs": [],
   "source": [
    "from imblearn import over_sampling #- import the packages\n",
    "\n",
    "oversample = over_sampling.RandomOverSampler(sampling_strategy = 'minority', random_state = 123)\n",
    "x_oversampled, y_oversampled = oversample.fit_resample(x,y)\n",
    "\n",
    "# #Logistic Regression\n",
    "# lr_params = {\n",
    "#     'solver':['newton-cg', 'lbfgs', 'liblinear'],\n",
    "#     'penalty':['l2'],\n",
    "#     'C':[100, 10, 1.0, 0.1, 0.01]\n",
    "#     }\n",
    "\n",
    "# best_random_oversampled_lr_model_details = fit_a_model(LogisticRegression(),5, True, 123, lr_params, 'f1', x_oversampled, y_oversampled)\n",
    "# best_random_oversampled_lr_model_details\n"
   ]
  },
  {
   "cell_type": "markdown",
   "metadata": {},
   "source": [
    "**best_random_oversampled_lr_model_details**\n",
    "\n",
    "{'best_score': 0.9479430266095378,\n",
    " 'best_params': {'C': 10, 'penalty': 'l2', 'solver': 'liblinear'}}\n"
   ]
  },
  {
   "cell_type": "code",
   "execution_count": 32,
   "metadata": {},
   "outputs": [],
   "source": [
    "# #Decision Tree\n",
    "# from sklearn.tree import DecisionTreeClassifier\n",
    "\n",
    "# dt_params = {\n",
    "#     'max_depth':[5,10],\n",
    "#     'min_samples_leaf':[500,1000,1500],\n",
    "#     'criterion':['gini','entropy'],\n",
    "#     'min_samples_split':[500,100,1500]}\n",
    "# best_random_oversampled_dt_model_details = fit_a_model(DecisionTreeClassifier(), 5, True, 123, dt_params, 'f1', x_oversampled, y_oversampled)\n",
    "# best_random_oversampled_dt_model_details"
   ]
  },
  {
   "cell_type": "markdown",
   "metadata": {},
   "source": [
    "**best_random_oversampled_dt_model_details**\n",
    "\n",
    "{'best_score': 0.9877250748784554,\n",
    " 'best_params': {'criterion': 'gini',\n",
    "  'max_depth': 10,\n",
    "  'min_samples_leaf': 500,\n",
    "  'min_samples_split': 100}}"
   ]
  },
  {
   "cell_type": "code",
   "execution_count": 33,
   "metadata": {},
   "outputs": [],
   "source": [
    "# #Random Forest\n",
    "# from sklearn.ensemble import RandomForestClassifier\n",
    "\n",
    "# rf_params = {\n",
    "#     'max_depth': [10,12],\n",
    "#     'min_samples_leaf': [50,60],\n",
    "#     'n_estimators': [60,70],\n",
    "#     'min_samples_split': [500,1000]\n",
    "# }\n",
    "# best_random_oversampled_rf_model_details = fit_a_model(RandomForestClassifier(), 5, True, 123, rf_params, 'f1', x_oversampled, y_oversampled)\n",
    "# best_random_oversampled_rf_model_details"
   ]
  },
  {
   "cell_type": "markdown",
   "metadata": {},
   "source": [
    "**best_random_oversampled_rf_model_details**\n",
    "\n",
    "{'best_score': 0.998382206709195,\n",
    " 'best_params': {'max_depth': 12,\n",
    "  'min_samples_leaf': 60,\n",
    "  'min_samples_split': 500,\n",
    "  'n_estimators': 70}}"
   ]
  },
  {
   "cell_type": "code",
   "execution_count": 34,
   "metadata": {},
   "outputs": [],
   "source": [
    "# #KNN\n",
    "\n",
    "# from sklearn.neighbors import KNeighborsClassifier\n",
    "\n",
    "# n_neighbors = list(range(1,11))\n",
    "\n",
    "# knn_params = dict(n_neighbors = n_neighbors)\n",
    "\n",
    "# best_knn_model_details = fit_a_model(KNeighborsClassifier(), 5, True, 123, knn_params, 'f1', x_oversampled, y_oversampled)\n",
    "\n",
    "# best_knn_model_details"
   ]
  },
  {
   "cell_type": "markdown",
   "metadata": {},
   "source": [
    "**best_random_oversampled_knn_model_details**\n",
    "\n",
    "{'best_score': 0.9998663637021503, 'best_params': {'n_neighbors': 1}}"
   ]
  },
  {
   "cell_type": "markdown",
   "metadata": {},
   "source": [
    "### Print the class distribution after applying SMOTE "
   ]
  },
  {
   "cell_type": "code",
   "execution_count": 35,
   "metadata": {},
   "outputs": [],
   "source": [
    "# import warnings\n",
    "# warnings.filterwarnings(\"ignore\")\n",
    "\n",
    "\n",
    "# sm = over_sampling.SMOTE(random_state=0)\n",
    "# X_train_smote, y_train_smote = sm.fit_resample(X_train, y_train)\n",
    "# # Artificial minority samples and corresponding minority labels from SMOTE are appended\n",
    "# # below X_train and y_train respectively\n",
    "# # So to exclusively get the artificial minority samples from SMOTE, we do\n",
    "# X_train_smote_1 = X_train_smote[X_train.shape[0]:]\n",
    "\n",
    "# X_train_1 = X_train.to_numpy()[np.where(y_train==1.0)]\n",
    "# X_train_0 = X_train.to_numpy()[np.where(y_train==0.0)]\n",
    "\n",
    "\n",
    "# plt.rcParams['figure.figsize'] = [20, 20]\n",
    "# fig = plt.figure()\n",
    "\n",
    "# plt.subplot(3, 1, 1)\n",
    "# plt.scatter(X_train_1[:, 0], X_train_1[:, 1], label='Actual Class-1 Examples')\n",
    "# plt.legend()\n",
    "\n",
    "# plt.subplot(3, 1, 2)\n",
    "# plt.scatter(X_train_1[:, 0], X_train_1[:, 1], label='Actual Class-1 Examples')\n",
    "# plt.scatter(X_train_smote_1[:X_train_1.shape[0], 0], X_train_smote_1[:X_train_1.shape[0], 1],\n",
    "#             label='Artificial SMOTE Class-1 Examples')\n",
    "# plt.legend()\n",
    "\n",
    "# plt.subplot(3, 1, 3)\n",
    "# plt.scatter(X_train_1[:, 0], X_train_1[:, 1], label='Actual Class-1 Examples')\n",
    "# plt.scatter(X_train_0[:X_train_1.shape[0], 0], X_train_0[:X_train_1.shape[0], 1], label='Actual Class-0 Examples')\n",
    "# plt.legend()"
   ]
  },
  {
   "cell_type": "code",
   "execution_count": 36,
   "metadata": {},
   "outputs": [],
   "source": [
    "smote = over_sampling.SMOTE(random_state=0)\n",
    "x_smote, y_smote = smote.fit_resample(x,y)\n",
    "\n",
    "# #Logistic Regression\n",
    "# lr_params = {\n",
    "#     'solver':['newton-cg', 'lbfgs', 'liblinear'],\n",
    "#     'penalty':['l2'],\n",
    "#     'C':[100, 10, 1.0, 0.1, 0.01]\n",
    "#     }\n",
    "\n",
    "# best_smote_lr_model_details = fit_a_model(LogisticRegression(),5, True, 123, lr_params, 'f1', x_smote, y_smote)\n",
    "# best_smote_lr_model_details\n"
   ]
  },
  {
   "cell_type": "markdown",
   "metadata": {},
   "source": [
    "**best_smote_lr_model_details**\n",
    "\n",
    "{'best_score': 0.9586009570527174,\n",
    " 'best_params': {'C': 100, 'penalty': 'l2', 'solver': 'newton-cg'}}\n"
   ]
  },
  {
   "cell_type": "code",
   "execution_count": 44,
   "metadata": {},
   "outputs": [],
   "source": [
    "# #Decision Tree\n",
    "# from sklearn.tree import DecisionTreeClassifier\n",
    "\n",
    "# dt_params = {\n",
    "#     'max_depth':[5,10],\n",
    "#     'min_samples_leaf':[500,1000,1500],\n",
    "#     'criterion':['gini','entropy'],\n",
    "#     'min_samples_split':[500,100,1500]}\n",
    "# best_smote_dt_model_details = fit_a_model(DecisionTreeClassifier(), 5, True, 123, dt_params, 'f1', x_smote, y_smote)\n",
    "# best_smote_dt_model_details"
   ]
  },
  {
   "cell_type": "markdown",
   "metadata": {},
   "source": [
    "**best_smote_dt_model_details**\n",
    "\n",
    "{'best_score': 0.9877613356595513,\n",
    " 'best_params': {'criterion': 'gini',\n",
    "  'max_depth': 10,\n",
    "  'min_samples_leaf': 500,\n",
    "  'min_samples_split': 500}}"
   ]
  },
  {
   "cell_type": "code",
   "execution_count": 38,
   "metadata": {},
   "outputs": [],
   "source": [
    "# #Random Forest\n",
    "# from sklearn.ensemble import RandomForestClassifier\n",
    "\n",
    "# rf_params = {\n",
    "#     'max_depth': [10,12],\n",
    "#     'min_samples_leaf': [50,60],\n",
    "#     'n_estimators': [60,70],\n",
    "#     'min_samples_split': [500,1000]\n",
    "# }\n",
    "# best_smote_rf_model_details = fit_a_model(RandomForestClassifier(), 5, True, 123, rf_params, 'f1', x_smote, y_smote)\n",
    "# best_smote_rf_model_details"
   ]
  },
  {
   "cell_type": "markdown",
   "metadata": {},
   "source": [
    "**best_smote_rf_model_details**\n",
    "\n",
    "{'best_score': 0.9887374607763466,\n",
    " 'best_params': {'max_depth': 12,\n",
    "  'min_samples_leaf': 50,\n",
    "  'min_samples_split': 500,\n",
    "  'n_estimators': 70}}"
   ]
  },
  {
   "cell_type": "markdown",
   "metadata": {},
   "source": [
    "##### Build models on other algorithms to see the better performing on SMOTE"
   ]
  },
  {
   "cell_type": "markdown",
   "metadata": {},
   "source": [
    "### Print the class distribution after applying ADASYN"
   ]
  },
  {
   "cell_type": "code",
   "execution_count": 39,
   "metadata": {},
   "outputs": [],
   "source": [
    "# import warnings\n",
    "# warnings.filterwarnings(\"ignore\")\n",
    "\n",
    "# from imblearn import over_sampling\n",
    "\n",
    "# ada = over_sampling.ADASYN(random_state=0)\n",
    "# X_train_adasyn, y_train_adasyn = ada.fit_resample(X_train, y_train)\n",
    "# # Artificial minority samples and corresponding minority labels from ADASYN are appended\n",
    "# # below X_train and y_train respectively\n",
    "# # So to exclusively get the artificial minority samples from ADASYN, we do\n",
    "# X_train_adasyn_1 = X_train_adasyn[X_train.shape[0]:]\n",
    "\n",
    "# X_train_1 = X_train.to_numpy()[np.where(y_train==1.0)]\n",
    "# X_train_0 = X_train.to_numpy()[np.where(y_train==0.0)]\n",
    "\n",
    "\n",
    "\n",
    "# import matplotlib.pyplot as plt\n",
    "# %matplotlib inline\n",
    "# plt.rcParams['figure.figsize'] = [20, 20]\n",
    "# fig = plt.figure()\n",
    "\n",
    "# plt.subplot(3, 1, 1)\n",
    "# plt.scatter(X_train_1[:, 0], X_train_1[:, 1], label='Actual Class-1 Examples')\n",
    "# plt.legend()\n",
    "\n",
    "# plt.subplot(3, 1, 2)\n",
    "# plt.scatter(X_train_1[:, 0], X_train_1[:, 1], label='Actual Class-1 Examples')\n",
    "# plt.scatter(X_train_adasyn_1[:X_train_1.shape[0], 0], X_train_adasyn_1[:X_train_1.shape[0], 1],\n",
    "#             label='Artificial ADASYN Class-1 Examples')\n",
    "# plt.legend()\n",
    "\n",
    "# plt.subplot(3, 1, 3)\n",
    "# plt.scatter(X_train_1[:, 0], X_train_1[:, 1], label='Actual Class-1 Examples')\n",
    "# plt.scatter(X_train_0[:X_train_1.shape[0], 0], X_train_0[:X_train_1.shape[0], 1], label='Actual Class-0 Examples')\n",
    "# plt.legend()"
   ]
  },
  {
   "cell_type": "code",
   "execution_count": 40,
   "metadata": {},
   "outputs": [],
   "source": [
    "ada = over_sampling.ADASYN(random_state=0)\n",
    "x_ada, y_ada = ada.fit_resample(x,y)\n",
    "\n",
    "\n"
   ]
  },
  {
   "cell_type": "code",
   "execution_count": 41,
   "metadata": {},
   "outputs": [],
   "source": [
    "# #Logistic Regression\n",
    "# lr_params = {\n",
    "#     'solver':['newton-cg', 'lbfgs', 'liblinear'],\n",
    "#     'penalty':['l2'],\n",
    "#     'C':[100, 10, 1.0, 0.1, 0.01]\n",
    "#     }\n",
    "\n",
    "# best_ada_lr_model_details = fit_a_model(LogisticRegression(),5, True, 123, lr_params, 'f1', x_ada, y_ada)\n",
    "# best_ada_lr_model_details"
   ]
  },
  {
   "cell_type": "markdown",
   "metadata": {},
   "source": [
    "**best_ada_lr_model_details**\n",
    "\n",
    "{'best_score': 0.9159159482406576,\n",
    " 'best_params': {'C': 100, 'penalty': 'l2', 'solver': 'newton-cg'}}"
   ]
  },
  {
   "cell_type": "code",
   "execution_count": 42,
   "metadata": {},
   "outputs": [],
   "source": [
    "# #Decision Tree\n",
    "# from sklearn.tree import DecisionTreeClassifier\n",
    "\n",
    "# dt_params = {\n",
    "#     'max_depth':[5,10],\n",
    "#     'min_samples_leaf':[500,1000,1500],\n",
    "#     'criterion':['gini','entropy'],\n",
    "#     'min_samples_split':[500,100,1500]}\n",
    "# best_ada_dt_model_details = fit_a_model(DecisionTreeClassifier(), 5, True, 123, dt_params, 'f1', x_ada, y_ada)\n",
    "# best_ada_dt_model_details"
   ]
  },
  {
   "cell_type": "markdown",
   "metadata": {},
   "source": [
    "**best_ada_dt_model_details**\n",
    "\n",
    "{'best_score': 0.9708917222556762,\n",
    " 'best_params': {'criterion': 'entropy',\n",
    "  'max_depth': 10,\n",
    "  'min_samples_leaf': 500,\n",
    "  'min_samples_split': 500}}"
   ]
  },
  {
   "cell_type": "code",
   "execution_count": 43,
   "metadata": {},
   "outputs": [],
   "source": [
    "# #Random Forest\n",
    "# from sklearn.ensemble import RandomForestClassifier\n",
    "\n",
    "# rf_params = {\n",
    "#     'max_depth': [10,12],\n",
    "#     'min_samples_leaf': [50,60],\n",
    "#     'n_estimators': [60,70],\n",
    "#     'min_samples_split': [500,1000]\n",
    "# }\n",
    "# best_ada_rf_model_details = fit_a_model(RandomForestClassifier(), 5, True, 123, rf_params, 'f1', x_ada, y_ada)\n",
    "# best_ada_rf_model_details"
   ]
  },
  {
   "cell_type": "markdown",
   "metadata": {},
   "source": [
    "**best_ada_rf_model_details**\n",
    "\n",
    "{'best_score': 0.9956430474081838,\n",
    " 'best_params': {'max_depth': 12,\n",
    "  'min_samples_leaf': 50,\n",
    "  'min_samples_split': 500,\n",
    "  'n_estimators': 70}}"
   ]
  },
  {
   "cell_type": "markdown",
   "metadata": {},
   "source": [
    "**Observations**\n",
    "\n",
    "- Out of the three oversampling methods, **SMOTE** seems to overall give better performing models for most of the models trained (LR, DT, RF etc)\n",
    "- So we will go with SMOTE oversamplng for the final model\n",
    "- Using SMOTE, we saw that the LR model scored 95.8600 whereas the DT model scored 98.7761 and RF scored 98.8737\n",
    "- As per these observations, **DT** and **RF** scored very similar with some basic hyperparameter tuning but where DT took **20-40 minutes** to train, RF took **90-150 minutes** to train\n",
    "- KNN model training was only succesfull using Random oversampling and that alone took 10.5 hrs and gave the best param to be n_neighbor = 1\n",
    "- SVM and XGB training was never succesful even after keeping the training run for 15 hrs and with the given hardware I have, it is not feasible to go for SVM or XGB (google collab free gave same results and all nimble box credits were exhausted trying to train them but no use)\n",
    "- So, taking all these points in consideration, I'm choosing **SMOTE** as the oversampling method and **Decision Tree** as the model to go with as it is giving similar score to Random Forest with lesser training time."
   ]
  },
  {
   "cell_type": "markdown",
   "metadata": {},
   "source": [
    "### Select the oversampling method which shows the best result on a model\n",
    "- Apply the best hyperparameter on the model\n",
    "- Predict on the test dataset"
   ]
  },
  {
   "cell_type": "code",
   "execution_count": 47,
   "metadata": {},
   "outputs": [],
   "source": [
    "from sklearn.tree import DecisionTreeClassifier\n"
   ]
  },
  {
   "cell_type": "code",
   "execution_count": 48,
   "metadata": {},
   "outputs": [
    {
     "data": {
      "text/plain": [
       "DecisionTreeClassifier(max_depth=10, min_samples_leaf=500,\n",
       "                       min_samples_split=500)"
      ]
     },
     "execution_count": 48,
     "metadata": {},
     "output_type": "execute_result"
    }
   ],
   "source": [
    "# perform the best oversampling method on X_train & y_train\n",
    "\n",
    "x_smote_train, x_smote_test, y_smote_train, y_smote_test = train_test_split(x_smote, y_smote, train_size = 0.7, test_size = 0.3, random_state = 123)\n",
    "  \n",
    "clf = DecisionTreeClassifier(criterion = 'gini', max_depth = 10, min_samples_leaf = 500, min_samples_split = 500)  #initialise the model with optimum hyperparameters\n",
    "clf.fit(x_smote_train, y_smote_train) # fit on the balanced dataset\n"
   ]
  },
  {
   "cell_type": "code",
   "execution_count": 51,
   "metadata": {},
   "outputs": [
    {
     "name": "stdout",
     "output_type": "stream",
     "text": [
      "              precision    recall  f1-score   support\n",
      "\n",
      "           0       0.97      0.98      0.97     85138\n",
      "           1       0.98      0.97      0.97     85451\n",
      "\n",
      "    accuracy                           0.97    170589\n",
      "   macro avg       0.97      0.97      0.97    170589\n",
      "weighted avg       0.97      0.97      0.97    170589\n",
      "\n"
     ]
    }
   ],
   "source": [
    "from sklearn.metrics import classification_report\n",
    "\n",
    "print(classification_report(y_smote_test, clf.predict(x_smote_test)))"
   ]
  },
  {
   "cell_type": "markdown",
   "metadata": {},
   "source": [
    "### Print the important features of the best model to understand the dataset"
   ]
  },
  {
   "cell_type": "code",
   "execution_count": 53,
   "metadata": {},
   "outputs": [
    {
     "name": "stdout",
     "output_type": "stream",
     "text": [
      "Top var = 14\n",
      "2nd Top var = 4\n",
      "3rd Top var = 12\n"
     ]
    },
    {
     "data": {
      "text/plain": [
       "<matplotlib.legend.Legend at 0x1d984e9cd60>"
      ]
     },
     "execution_count": 53,
     "metadata": {},
     "output_type": "execute_result"
    },
    {
     "data": {
      "image/png": "[encoded data removed]",
      "text/plain": [
       "<Figure size 1440x1440 with 1 Axes>"
      ]
     },
     "metadata": {
      "needs_background": "light"
     },
     "output_type": "display_data"
    }
   ],
   "source": [
    "var_imp = []\n",
    "for i in clf.feature_importances_:\n",
    "    var_imp.append(i)\n",
    "print('Top var =', var_imp.index(np.sort(clf.feature_importances_)[-1])+1)\n",
    "print('2nd Top var =', var_imp.index(np.sort(clf.feature_importances_)[-2])+1)\n",
    "print('3rd Top var =', var_imp.index(np.sort(clf.feature_importances_)[-3])+1)\n",
    "\n",
    "# Variable on Index-13 and Index-9 seems to be the top 2 variables\n",
    "top_var_index = var_imp.index(np.sort(clf.feature_importances_)[-1])\n",
    "second_top_var_index = var_imp.index(np.sort(clf.feature_importances_)[-2])\n",
    "\n",
    "X_train_1 = x_smote_train.to_numpy()[np.where(y_train==1.0)]\n",
    "X_train_0 = x_smote_train.to_numpy()[np.where(y_train==0.0)]\n",
    "\n",
    "np.random.shuffle(X_train_0)\n",
    "\n",
    "import matplotlib.pyplot as plt\n",
    "%matplotlib inline\n",
    "plt.rcParams['figure.figsize'] = [20, 20]\n",
    "\n",
    "plt.scatter(X_train_1[:, top_var_index], X_train_1[:, second_top_var_index], label='Actual Class-1 Examples')\n",
    "plt.scatter(X_train_0[:X_train_1.shape[0], top_var_index], X_train_0[:X_train_1.shape[0], second_top_var_index],\n",
    "            label='Actual Class-0 Examples')\n",
    "plt.legend()"
   ]
  },
  {
   "cell_type": "code",
   "execution_count": 62,
   "metadata": {},
   "outputs": [
    {
     "name": "stderr",
     "output_type": "stream",
     "text": [
      "C:\\Python383\\lib\\site-packages\\sklearn\\utils\\deprecation.py:87: FutureWarning: Function plot_roc_curve is deprecated; Function `plot_roc_curve` is deprecated in 1.0 and will be removed in 1.2. Use one of the class methods: RocCurveDisplay.from_predictions or RocCurveDisplay.from_estimator.\n",
      "  warnings.warn(msg, category=FutureWarning)\n"
     ]
    },
    {
     "data": {
      "text/plain": [
       "<sklearn.metrics._plot.roc_curve.RocCurveDisplay at 0x1d985411280>"
      ]
     },
     "execution_count": 62,
     "metadata": {},
     "output_type": "execute_result"
    },
    {
     "data": {
      "image/png": "[encoded data removed]",
      "text/plain": [
       "<Figure size 1440x1440 with 1 Axes>"
      ]
     },
     "metadata": {
      "needs_background": "light"
     },
     "output_type": "display_data"
    }
   ],
   "source": [
    "#### Print the FPR,TPR & select the best threshold from the roc curve\n",
    "from sklearn import metrics\n",
    "\n",
    "y_test_pred = clf.predict(x_smote_test)\n",
    "\n",
    "metrics.plot_roc_curve(clf, x_smote_test, y_smote_test)"
   ]
  },
  {
   "cell_type": "code",
   "execution_count": 61,
   "metadata": {},
   "outputs": [
    {
     "name": "stdout",
     "output_type": "stream",
     "text": [
      "Train auc = 0.9732717055470418\n",
      "1\n"
     ]
    }
   ],
   "source": [
    "print('Train auc =', metrics.roc_auc_score(y_smote_test, y_test_pred))\n",
    "fpr, tpr, thresholds = metrics.roc_curve(y_smote_test, y_test_pred)\n",
    "threshold = thresholds[np.argmax(tpr-fpr)]\n",
    "print(threshold)"
   ]
  },
  {
   "cell_type": "code",
   "execution_count": null,
   "metadata": {},
   "outputs": [],
   "source": []
  }
 ],
 "metadata": {
  "interpreter": {
   "hash": "da8a18d21342d0dccf30a6412458e9c6fe97ce9d4eb3b6b3573c1ee84d750143"
  },
  "kernelspec": {
   "display_name": "Python 3.8.3 64-bit",
   "name": "python3"
  },
  "language_info": {
   "codemirror_mode": {
    "name": "ipython",
    "version": 3
   },
   "file_extension": ".py",
   "mimetype": "text/x-python",
   "name": "python",
   "nbconvert_exporter": "python",
   "pygments_lexer": "ipython3",
   "version": "3.8.3"
  }
 },
 "nbformat": 4,
 "nbformat_minor": 2
}
